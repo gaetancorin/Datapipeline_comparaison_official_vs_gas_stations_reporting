{
 "cells": [
  {
   "cell_type": "code",
   "execution_count": 1,
   "id": "d623fafa",
   "metadata": {},
   "outputs": [
    {
     "name": "stdout",
     "output_type": "stream",
     "text": [
      "Dump réussi dans C:\\Users\\gaeta\\Downloads\\test_dump_mongo\n"
     ]
    }
   ],
   "source": [
    "import subprocess\n",
    "\n",
    "def mongodump(uri, out_path):\n",
    "    cmd = ['mongodump', '--uri', uri, '--out', out_path]\n",
    "    result = subprocess.run(cmd, capture_output=True, text=True)\n",
    "    if result.returncode == 0:\n",
    "        print(f\"Dump réussi dans {out_path}\")\n",
    "    else:\n",
    "        print(\"Erreur:\", result.stderr)\n",
    "\n",
    "# Exemple d'utilisation\n",
    "mongodump(\n",
    "    uri=\"mongodb://localhost:27017/gas_station_price\",\n",
    "    out_path=r\"C:\\Users\\gaeta\\Downloads\\test_dump_mongo\"\n",
    ")"
   ]
  },
  {
   "cell_type": "code",
   "execution_count": null,
   "id": "def3fb6a",
   "metadata": {},
   "outputs": [],
   "source": []
  }
 ],
 "metadata": {
  "kernelspec": {
   "display_name": "Python 3 (ipykernel)",
   "language": "python",
   "name": "python3"
  },
  "language_info": {
   "codemirror_mode": {
    "name": "ipython",
    "version": 3
   },
   "file_extension": ".py",
   "mimetype": "text/x-python",
   "name": "python",
   "nbconvert_exporter": "python",
   "pygments_lexer": "ipython3",
   "version": "3.11.5"
  }
 },
 "nbformat": 4,
 "nbformat_minor": 5
}
