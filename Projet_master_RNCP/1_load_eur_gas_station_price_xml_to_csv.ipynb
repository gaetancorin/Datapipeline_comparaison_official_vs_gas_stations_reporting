{
 "cells": [
  {
   "cell_type": "code",
   "execution_count": 1,
   "id": "f1fc4397-fb2d-4b28-9fc0-160c9a6c6bcb",
   "metadata": {},
   "outputs": [],
   "source": [
    "import requests\n",
    "import pandas as pd\n",
    "import zipfile\n",
    "import io\n",
    "import os\n",
    "\n",
    "import xml.etree.ElementTree as ET\n",
    "import html\n",
    "\n",
    "import numpy as np\n",
    "os.makedirs(\"results/inputs_xml\", exist_ok=True)\n",
    "# ALL YEARS (consuming 0.37 GO)\n",
    "# years = ['2007', '2008', '2009', '2010', '2011', '2012', '2013', '2014', '2015', '2016', '2017', '2018', '2019', '2020', '2021', '2022', '2023', '2024', '2025']\n",
    "# ONE YEARS:\n",
    "years = ['2025']"
   ]
  },
  {
   "cell_type": "code",
   "execution_count": 2,
   "id": "53cf53e2-4121-48e2-aa47-f682c9fea293",
   "metadata": {},
   "outputs": [
    {
     "name": "stdout",
     "output_type": "stream",
     "text": [
      "LOAD 2025\n",
      "<Response [200]>\n",
      "PrixCarburants_annuel_2025.xml\n",
      "PrixCarburants_annuel_2025.xml extracted\n",
      "id           object\n",
      "latitude     object\n",
      "longitude    object\n",
      "cp           object\n",
      "ville        object\n",
      "adresse      object\n",
      "nom          object\n",
      "maj          object\n",
      "valeur       object\n",
      "dtype: object\n",
      "id             int32\n",
      "latitude     float64\n",
      "longitude    float64\n",
      "cp             int32\n",
      "ville         object\n",
      "adresse       object\n",
      "nom           object\n",
      "maj           object\n",
      "valeur       float64\n",
      "dtype: object\n",
      "        id   latitude  longitude    cp                  ville  \\\n",
      "0  1000001  4620100.0   519800.0  1000  SAINT-DENIS-LèS-BOURG   \n",
      "1  1000001  4620100.0   519800.0  1000  SAINT-DENIS-LèS-BOURG   \n",
      "2  1000001  4620100.0   519800.0  1000  SAINT-DENIS-LèS-BOURG   \n",
      "3  1000001  4620100.0   519800.0  1000  SAINT-DENIS-LèS-BOURG   \n",
      "4  1000001  4620100.0   519800.0  1000  SAINT-DENIS-LèS-BOURG   \n",
      "\n",
      "                 adresse     nom               maj  valeur  \n",
      "0  596 AVENUE DE TREVOUX  Gazole  2025_01_02_00:37  1707.0  \n",
      "1  596 AVENUE DE TREVOUX  Gazole  2025_01_02_07:56  1707.0  \n",
      "2  596 AVENUE DE TREVOUX  Gazole  2025_01_03_00:38  1725.0  \n",
      "3  596 AVENUE DE TREVOUX  Gazole  2025_01_07_00:37  1705.0  \n",
      "4  596 AVENUE DE TREVOUX  Gazole  2025_01_09_00:37  1688.0  \n"
     ]
    }
   ],
   "source": [
    "for year in years:\n",
    "    print(\"LOAD\", year)\n",
    "    ###### LOAD DATAS TO LOCAL XML TO DF ##########\n",
    "#     # Source = \"https://www.prix-carburants.gouv.fr/rubrique/opendata/\" (site gouvernemental)\n",
    "\n",
    "    url = f\"https://donnees.roulez-eco.fr/opendata/annee/{year}\"\n",
    "    response = requests.get(url)\n",
    "    print(response)\n",
    "    \n",
    "    # get filename\n",
    "    zip_file = zipfile.ZipFile(io.BytesIO(response.content))\n",
    "    file_name = zip_file.namelist()[0]\n",
    "    print(file_name)\n",
    "    \n",
    "    # get original xml file and save in local\n",
    "    with zipfile.ZipFile(io.BytesIO(response.content), 'r') as zip_ref:\n",
    "        zip_ref.extractall(\"results/inputs_xml\")\n",
    "    print(file_name, \"extracted\")\n",
    "    \n",
    "    ###### TRANSFORM LOCAL XML TO DF ##########\n",
    "    \n",
    "    # transform xml to df\n",
    "    tree = ET.parse(f\"results/inputs_xml/PrixCarburants_annuel_{year}.xml\")\n",
    "    root = tree.getroot()\n",
    "    data = []\n",
    "    for pdv in root.findall(\"pdv\"):\n",
    "        for p in pdv.findall(\"prix\"):\n",
    "            row = {\n",
    "                \"id\": pdv.get(\"id\"),\n",
    "                \"latitude\": pdv.get(\"latitude\"),\n",
    "                \"longitude\": pdv.get(\"longitude\"),\n",
    "                \"cp\": pdv.get(\"cp\"),\n",
    "                \"ville\": pdv.find(\"ville\").text if pdv.find(\"ville\") is not None and pdv.find(\"ville\").text else None,\n",
    "                \"adresse\": pdv.find(\"adresse\").text.replace(\",\", \" \").replace(\";\", \" \") if pdv.find(\"adresse\") is not None and pdv.find(\"adresse\").text else None,\n",
    "                \"nom\": p.get(\"nom\"),\n",
    "                \"maj\": p.get(\"maj\"),\n",
    "                \"valeur\": p.get(\"valeur\")\n",
    "            }\n",
    "            data.append(row)\n",
    "    df = pd.DataFrame(data)\n",
    "    \n",
    "    ###### CLEAN DF AND ADD TYPES ##############\n",
    "    \n",
    "    print(df.dtypes)\n",
    "    \n",
    "    df[\"id\"] = df[\"id\"].astype(int)\n",
    "    df[\"latitude\"] = df[\"latitude\"].replace([\"\", \"0\"], np.nan).astype(float)\n",
    "    df[\"longitude\"] = df[\"longitude\"].replace([\"\", \"0\"], np.nan).astype(float)\n",
    "    df['adresse'] = df['adresse'].str.replace(\"\\n\", \" \", regex=True)\n",
    "    df[\"valeur\"] = df[\"valeur\"].astype(float)\n",
    "    \n",
    "    # (le cp est de valeur '35***' sur une des valeurs de 2008 et son id \"35200004\" ne correspond a aucune station sur d'autres année, donc on supprime.)\n",
    "    df = df[df[\"cp\"] != \"35***\"]\n",
    "    df[\"cp\"] = df[\"cp\"].replace(\"\", np.nan).astype(int)\n",
    "\n",
    "    \n",
    "    # (format date used between 2014 and now)\n",
    "    df['maj_without_microsec_with_T'] = pd.to_datetime(df['maj'], format='%Y-%m-%dT%H:%M:%S', errors='coerce').dt.strftime('%Y_%m_%d_%H:%M')\n",
    "    # (format date used between 2007 and 2013)\n",
    "    df['maj_without_microsec'] = pd.to_datetime(df['maj'], format='%Y-%m-%d %H:%M:%S', errors='coerce').dt.strftime('%Y_%m_%d_%H:%M')\n",
    "    df['maj_with_microsec'] = pd.to_datetime(df['maj'], format='%Y-%m-%d %H:%M:%S.%f', errors='coerce').dt.strftime('%Y_%m_%d_%H:%M')\n",
    "    \n",
    "    df['maj'] = df['maj_with_microsec'].fillna(df['maj_without_microsec']).fillna(df['maj_without_microsec_with_T'])\n",
    "    df = df.drop(columns=[\"maj_without_microsec\", \"maj_with_microsec\", \"maj_without_microsec_with_T\"])\n",
    "\n",
    "    # values format used between 2007 and 2021 = 500 to 2000\n",
    "    # values format used between 2022 ans now = 0.5 to 2.0 (need to be adapted to 500 to 2000)\n",
    "    df['valeur'] = df['valeur'] * 1000 if int(year) > 2021 else df['valeur']\n",
    "    \n",
    "    print(df.dtypes)\n",
    "    \n",
    "    ########### SAVE DF TO CSV ###################\n",
    "    \n",
    "    os.makedirs(\"results/inputs_csv\", exist_ok=True)\n",
    "    df.to_csv(f\"results/inputs_csv/PrixCarburants_annuel_{year}.csv\", index=False)\n",
    "    print(df.head(5))"
   ]
  },
  {
   "cell_type": "markdown",
   "id": "ad6dab04-9e29-4ba2-8e6d-f4ea0cf322b7",
   "metadata": {},
   "source": [
    "### Analyses"
   ]
  },
  {
   "cell_type": "code",
   "execution_count": 3,
   "id": "d230de30-faed-4cd0-b378-855d1097eaa0",
   "metadata": {},
   "outputs": [],
   "source": [
    "# print(f\"ANALYSE {year}\")"
   ]
  },
  {
   "cell_type": "code",
   "execution_count": 4,
   "id": "26d83942-77eb-4b21-aad5-d55550805e3a",
   "metadata": {},
   "outputs": [],
   "source": [
    "# # check number of staions (id unique) and numbers of records\n",
    "# print(\"id unique\", len(df[\"id\"].unique()))\n",
    "\n",
    "# print(\"all values\", len(df))"
   ]
  },
  {
   "cell_type": "code",
   "execution_count": 5,
   "id": "63b3db18-1e77-4dbf-94f7-7a3ded210235",
   "metadata": {},
   "outputs": [],
   "source": [
    "# check null values for all columns\n",
    "# df.isnull().sum()"
   ]
  },
  {
   "cell_type": "code",
   "execution_count": 6,
   "id": "b58400fe-1448-492d-a67f-51a68f21bf20",
   "metadata": {},
   "outputs": [],
   "source": [
    "# #check bad string\n",
    "# print(df[df['adresse'].str.startswith(\"ZI La Laure\", na=False)])"
   ]
  },
  {
   "cell_type": "code",
   "execution_count": 7,
   "id": "8e66bdb3-8a7e-4c8d-9664-28e31dfd769f",
   "metadata": {},
   "outputs": [],
   "source": [
    "# # check what ID have None data\n",
    "# df2 = df.copy()\n",
    "# df2 = df2[df2['adresse'].isna()]\n",
    "\n",
    "# df2 = df2[[\"id\", \"adresse\"]].drop_duplicates()\n",
    "# df2.head(25)"
   ]
  },
  {
   "cell_type": "code",
   "execution_count": null,
   "id": "7b50e9de-b383-4c23-9f72-96a96f413878",
   "metadata": {},
   "outputs": [],
   "source": []
  }
 ],
 "metadata": {
  "kernelspec": {
   "display_name": "Python 3 (ipykernel)",
   "language": "python",
   "name": "python3"
  },
  "language_info": {
   "codemirror_mode": {
    "name": "ipython",
    "version": 3
   },
   "file_extension": ".py",
   "mimetype": "text/x-python",
   "name": "python",
   "nbconvert_exporter": "python",
   "pygments_lexer": "ipython3",
   "version": "3.11.5"
  }
 },
 "nbformat": 4,
 "nbformat_minor": 5
}
