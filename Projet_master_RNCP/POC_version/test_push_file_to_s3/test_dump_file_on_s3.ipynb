{
 "cells": [
  {
   "cell_type": "code",
   "execution_count": 8,
   "id": "ce6e1185",
   "metadata": {},
   "outputs": [
    {
     "name": "stdout",
     "output_type": "stream",
     "text": [
      "Fichier test.txt uploadé dans mongo-dump-master-project sous test.txt\n"
     ]
    }
   ],
   "source": [
    "import boto3\n",
    "import os\n",
    "from dotenv import load_dotenv\n",
    "\n",
    "# Charger les variables depuis env.txt\n",
    "load_dotenv('env.txt')\n",
    "\n",
    "# Lire les variables\n",
    "AWS_ACCESS_KEY_ID = os.getenv('AWS_ACCESS_KEY_ID')\n",
    "AWS_SECRET_ACCESS_KEY = os.getenv('AWS_SECRET_ACCESS_KEY')\n",
    "AWS_REGION = os.getenv('AWS_REGION')\n",
    "BUCKET_NAME = os.getenv('BUCKET_NAME')\n",
    "# print(AWS_ACCESS_KEY_ID, AWS_SECRET_ACCESS_KEY, AWS_REGION, BUCKET_NAME)\n",
    "\n",
    "# Initialiser le client S3\n",
    "s3 = boto3.client(\n",
    "    's3',\n",
    "    aws_access_key_id=AWS_ACCESS_KEY_ID,\n",
    "    aws_secret_access_key=AWS_SECRET_ACCESS_KEY,\n",
    "    region_name=AWS_REGION\n",
    ")\n",
    "\n",
    "def upload_file_to_s3(file_path, bucket=BUCKET_NAME, object_name=None):\n",
    "    if object_name is None:\n",
    "        object_name = os.path.basename(file_path)\n",
    "    s3.upload_file(file_path, bucket, object_name)\n",
    "    print(f\"Fichier {file_path} uploadé dans {bucket} sous {object_name}\")\n",
    "\n",
    "upload_file_to_s3('test.txt')"
   ]
  },
  {
   "cell_type": "code",
   "execution_count": 10,
   "id": "f7512eca",
   "metadata": {},
   "outputs": [
    {
     "name": "stdout",
     "output_type": "stream",
     "text": [
      "Fichier 'test.txt' téléchargé et sauvegardé ici : test_return.txt\n"
     ]
    }
   ],
   "source": [
    "import boto3\n",
    "import os\n",
    "from dotenv import load_dotenv\n",
    "\n",
    "# Charger les variables depuis env.txt\n",
    "load_dotenv('env.txt')\n",
    "\n",
    "# Lire les variables\n",
    "AWS_ACCESS_KEY_ID = os.getenv('AWS_ACCESS_KEY_ID')\n",
    "AWS_SECRET_ACCESS_KEY = os.getenv('AWS_SECRET_ACCESS_KEY')\n",
    "AWS_REGION = os.getenv('AWS_REGION')\n",
    "BUCKET_NAME = os.getenv('BUCKET_NAME')\n",
    "# print(AWS_ACCESS_KEY_ID, AWS_SECRET_ACCESS_KEY, AWS_REGION, BUCKET_NAME)\n",
    "\n",
    "# Initialiser le client S3\n",
    "s3 = boto3.client(\n",
    "    's3',\n",
    "    aws_access_key_id=AWS_ACCESS_KEY_ID,\n",
    "    aws_secret_access_key=AWS_SECRET_ACCESS_KEY,\n",
    "    region_name=AWS_REGION\n",
    ")\n",
    "\n",
    "def download_file_from_s3_to_path(object_name, local_file_path, bucket=BUCKET_NAME):\n",
    "    try:\n",
    "        s3.download_file(bucket, object_name, local_file_path)\n",
    "        print(f\"Fichier '{object_name}' téléchargé et sauvegardé ici : {local_file_path}\")\n",
    "    except Exception as e:\n",
    "        print(f\"Erreur lors du téléchargement : {e}\")\n",
    "\n",
    "# Exemple d'utilisation\n",
    "# local_file_path = r\"C:\\Users\\gaeta\\Downloads\\test_return.txt\"\n",
    "local_file_path = r\"test_return.txt\"\n",
    "download_file_from_s3_to_path('test.txt', local_file_path)"
   ]
  },
  {
   "cell_type": "code",
   "execution_count": null,
   "id": "f35be19e",
   "metadata": {},
   "outputs": [],
   "source": []
  }
 ],
 "metadata": {
  "kernelspec": {
   "display_name": "Python 3 (ipykernel)",
   "language": "python",
   "name": "python3"
  },
  "language_info": {
   "codemirror_mode": {
    "name": "ipython",
    "version": 3
   },
   "file_extension": ".py",
   "mimetype": "text/x-python",
   "name": "python",
   "nbconvert_exporter": "python",
   "pygments_lexer": "ipython3",
   "version": "3.11.5"
  }
 },
 "nbformat": 4,
 "nbformat_minor": 5
}
