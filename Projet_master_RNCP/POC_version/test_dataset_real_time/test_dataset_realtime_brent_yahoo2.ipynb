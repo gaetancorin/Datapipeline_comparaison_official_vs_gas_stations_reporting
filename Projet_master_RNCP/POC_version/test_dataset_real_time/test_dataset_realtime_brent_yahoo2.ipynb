{
 "cells": [
  {
   "cell_type": "code",
   "execution_count": null,
   "id": "c1b4ddea-42ac-443c-a40a-b884569f3bbb",
   "metadata": {},
   "outputs": [],
   "source": [
    "# example real dataset\n",
    "#https://github.com/bytewax/awesome-public-real-time-datasets\n",
    "#doc\n",
    "#https://ranaroussi.github.io/yfinance/reference/api/yfinance.WebSocket.html\n",
    "\n",
    "from yfinance import WebSocket\n",
    "\n",
    "def handle_message(msg):\n",
    "    print(\"Message reçu:\", msg)\n",
    "    # Essaye d'afficher un prix s'il est dans le message\n",
    "    if 'price' in msg:\n",
    "        print(f\"Prix Brent : {msg['price']}\")\n",
    "    elif 'regularMarketPrice' in msg:\n",
    "        print(f\"Prix Brent marché régulier : {msg['regularMarketPrice']}\")\n",
    "\n",
    "ws = WebSocket(verbose=True)\n",
    "\n",
    "# # Souscription uniquement au Brent\n",
    "# ws.subscribe([\"BZ=F\"])\n",
    "# Souscription au Brent et au S&P 500 (plus actif)\n",
    "ws.subscribe([\"BZ=F\", \"^GSPC\"])\n",
    "\n",
    "ws.listen(handle_message)"
   ]
  },
  {
   "cell_type": "code",
   "execution_count": null,
   "id": "c53ffcb5-0d8d-4449-b7b1-01d76d466450",
   "metadata": {},
   "outputs": [],
   "source": []
  }
 ],
 "metadata": {
  "kernelspec": {
   "display_name": "Python 3.11 (python311)",
   "language": "python",
   "name": "python311"
  },
  "language_info": {
   "codemirror_mode": {
    "name": "ipython",
    "version": 3
   },
   "file_extension": ".py",
   "mimetype": "text/x-python",
   "name": "python",
   "nbconvert_exporter": "python",
   "pygments_lexer": "ipython3",
   "version": "3.11.10"
  }
 },
 "nbformat": 4,
 "nbformat_minor": 5
}
