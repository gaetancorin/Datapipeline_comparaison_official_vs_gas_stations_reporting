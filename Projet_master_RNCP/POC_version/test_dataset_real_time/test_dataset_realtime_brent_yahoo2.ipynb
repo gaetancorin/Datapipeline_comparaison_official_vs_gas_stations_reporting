{
 "cells": [
  {
   "cell_type": "code",
   "execution_count": 1,
   "id": "32b2c927-7cb6-4444-b515-ad151ad17a84",
   "metadata": {},
   "outputs": [],
   "source": [
    "# pip uninstall yfinance -y\n",
    "# pip install git+https://github.com/ranaroussi/yfinance.git"
   ]
  },
  {
   "cell_type": "code",
   "execution_count": 6,
   "id": "c1b4ddea-42ac-443c-a40a-b884569f3bbb",
   "metadata": {},
   "outputs": [
    {
     "name": "stdout",
     "output_type": "stream",
     "text": [
      "Connected to WebSocket.\n",
      "Subscribed to symbols: ['BTC-USD']\n",
      "Subscribed to symbols: ['BZ=F']\n",
      "Subscribed to symbols: ['CL=F']\n",
      "Listening for messages...\n",
      "Message reçu: {'id': 'BTC-USD', 'price': 118678.805, 'time': '1753797180000', 'currency': 'USD', 'exchange': 'CCC', 'quote_type': 41, 'market_hours': 1, 'change_percent': 0.17805451, 'day_volume': '67708354560', 'day_high': 119083.43, 'day_low': 117490.734, 'change': 210.92969, 'open_price': 118016.28, 'last_size': '67708354560', 'price_hint': '2', 'vol_24hr': '67708354560', 'vol_all_currencies': '67708354560', 'from_currency': 'BTC', 'circulating_supply': 19898980.0, 'market_cap': 2361587140000.0}\n",
      "Prix Brent : 118678.805\n",
      "Message reçu: {'id': 'BTC-USD', 'price': 118699.21, 'time': '1753797240000', 'currency': 'USD', 'exchange': 'CCC', 'quote_type': 41, 'market_hours': 1, 'change_percent': 0.18691106, 'day_volume': '66577317888', 'day_high': 119083.43, 'day_low': 117490.734, 'change': 221.44531, 'open_price': 118016.28, 'last_size': '66577317888', 'price_hint': '2', 'vol_24hr': '66577317888', 'vol_all_currencies': '66577317888', 'from_currency': 'BTC', 'circulating_supply': 19898980.0, 'market_cap': 2361993460000.0}\n",
      "Prix Brent : 118699.21\n",
      "Message reçu: {'id': 'BTC-USD', 'price': 118690.67, 'time': '1753797300000', 'currency': 'USD', 'exchange': 'CCC', 'quote_type': 41, 'market_hours': 1, 'change_percent': 0.20026228, 'day_volume': '66605170688', 'day_high': 119083.43, 'day_low': 117490.734, 'change': 237.21094, 'open_price': 118016.28, 'last_size': '66605170688', 'price_hint': '2', 'vol_24hr': '66605170688', 'vol_all_currencies': '66605170688', 'from_currency': 'BTC', 'circulating_supply': 19898980.0, 'market_cap': 2361823330000.0}\n",
      "Prix Brent : 118690.67\n",
      "Message reçu: {'id': 'BTC-USD', 'price': 118610.414, 'time': '1753797360000', 'currency': 'USD', 'exchange': 'CCC', 'quote_type': 41, 'market_hours': 1, 'change_percent': 0.25925198, 'day_volume': '67671789568', 'day_high': 119083.43, 'day_low': 117490.734, 'change': 306.71094, 'open_price': 118016.28, 'last_size': '67671789568', 'price_hint': '2', 'vol_24hr': '67671789568', 'vol_all_currencies': '67671789568', 'from_currency': 'BTC', 'circulating_supply': 19898980.0, 'market_cap': 2360226350000.0}\n",
      "Prix Brent : 118610.414\n",
      "Message reçu: {'id': 'BTC-USD', 'price': 118610.414, 'time': '1753797360000', 'currency': 'USD', 'exchange': 'CCC', 'quote_type': 41, 'market_hours': 1, 'change_percent': 0.25925198, 'day_volume': '67671789568', 'day_high': 119083.43, 'day_low': 117490.734, 'change': 306.71094, 'open_price': 118016.28, 'last_size': '67671789568', 'price_hint': '2', 'vol_24hr': '67671789568', 'vol_all_currencies': '67671789568', 'from_currency': 'BTC', 'circulating_supply': 19898980.0, 'market_cap': 2360226350000.0}\n",
      "Prix Brent : 118610.414\n",
      "Message reçu: {'id': 'BTC-USD', 'price': 118609.01, 'time': '1753797420000', 'currency': 'USD', 'exchange': 'CCC', 'quote_type': 41, 'market_hours': 1, 'change_percent': 0.07965813, 'day_volume': '66394886144', 'day_high': 119083.43, 'day_low': 117490.734, 'change': 94.40625, 'open_price': 118016.28, 'last_size': '66394886144', 'price_hint': '2', 'vol_24hr': '66394886144', 'vol_all_currencies': '66394886144', 'from_currency': 'BTC', 'circulating_supply': 19898980.0, 'market_cap': 2360198300000.0}\n",
      "Prix Brent : 118609.01\n",
      "Message reçu: {'id': 'BTC-USD', 'price': 118617.086, 'time': '1753797480000', 'currency': 'USD', 'exchange': 'CCC', 'quote_type': 41, 'market_hours': 1, 'change_percent': 0.17148873, 'day_volume': '64562532352', 'day_high': 119083.43, 'day_low': 117490.734, 'change': 203.07031, 'open_price': 118016.28, 'last_size': '64562532352', 'price_hint': '2', 'vol_24hr': '64562532352', 'vol_all_currencies': '64562532352', 'from_currency': 'BTC', 'circulating_supply': 19898980.0, 'market_cap': 2360359260000.0}\n",
      "Prix Brent : 118617.086\n",
      "Message reçu: {'id': 'BTC-USD', 'price': 118606.164, 'time': '1753797540000', 'currency': 'USD', 'exchange': 'CCC', 'quote_type': 41, 'market_hours': 1, 'change_percent': 0.15501542, 'day_volume': '66464722944', 'day_high': 119083.43, 'day_low': 117490.734, 'change': 183.57812, 'open_price': 118016.28, 'last_size': '66464722944', 'price_hint': '2', 'vol_24hr': '66464722944', 'vol_all_currencies': '66464722944', 'from_currency': 'BTC', 'circulating_supply': 19898980.0, 'market_cap': 2360141940000.0}\n",
      "Prix Brent : 118606.164\n",
      "Message reçu: {'id': 'BTC-USD', 'price': 118606.164, 'time': '1753797540000', 'currency': 'USD', 'exchange': 'CCC', 'quote_type': 41, 'market_hours': 1, 'change_percent': 0.15501542, 'day_volume': '66464722944', 'day_high': 119083.43, 'day_low': 117490.734, 'change': 183.57812, 'open_price': 118016.28, 'last_size': '66464722944', 'price_hint': '2', 'vol_24hr': '66464722944', 'vol_all_currencies': '66464722944', 'from_currency': 'BTC', 'circulating_supply': 19898980.0, 'market_cap': 2360141940000.0}\n",
      "Prix Brent : 118606.164\n",
      "Message reçu: {'id': 'BTC-USD', 'price': 118615.13, 'time': '1753797660000', 'currency': 'USD', 'exchange': 'CCC', 'quote_type': 41, 'market_hours': 1, 'change_percent': 0.2081378, 'day_volume': '67581071360', 'day_high': 119083.43, 'day_low': 117490.734, 'change': 246.375, 'open_price': 118016.28, 'last_size': '67581071360', 'price_hint': '2', 'vol_24hr': '67581071360', 'vol_all_currencies': '67581071360', 'from_currency': 'BTC', 'circulating_supply': 19898980.0, 'market_cap': 2360320200000.0}\n",
      "Prix Brent : 118615.13\n",
      "Message reçu: {'id': 'BTC-USD', 'price': 118615.13, 'time': '1753797660000', 'currency': 'USD', 'exchange': 'CCC', 'quote_type': 41, 'market_hours': 1, 'change_percent': 0.2081378, 'day_volume': '67581071360', 'day_high': 119083.43, 'day_low': 117490.734, 'change': 246.375, 'open_price': 118016.28, 'last_size': '67581071360', 'price_hint': '2', 'vol_24hr': '67581071360', 'vol_all_currencies': '67581071360', 'from_currency': 'BTC', 'circulating_supply': 19898980.0, 'market_cap': 2360320200000.0}\n",
      "Prix Brent : 118615.13\n",
      "Message reçu: {'id': 'BTC-USD', 'price': 118602.41, 'time': '1753797720000', 'currency': 'USD', 'exchange': 'CCC', 'quote_type': 41, 'market_hours': 1, 'change_percent': 0.17300814, 'day_volume': '67600285696', 'day_high': 119083.43, 'day_low': 117490.734, 'change': 204.83594, 'open_price': 118016.28, 'last_size': '67600285696', 'price_hint': '2', 'vol_24hr': '67600285696', 'vol_all_currencies': '67600285696', 'from_currency': 'BTC', 'circulating_supply': 19898980.0, 'market_cap': 2360066970000.0}\n",
      "Prix Brent : 118602.41\n",
      "Message reçu: {'id': 'BTC-USD', 'price': 118502.15, 'time': '1753797780000', 'currency': 'USD', 'exchange': 'CCC', 'quote_type': 41, 'market_hours': 1, 'change_percent': -0.03702466, 'day_volume': '66225856512', 'day_high': 119083.43, 'day_low': 117490.734, 'change': -43.890625, 'open_price': 118016.28, 'last_size': '66225856512', 'price_hint': '2', 'vol_24hr': '66225856512', 'vol_all_currencies': '66225856512', 'from_currency': 'BTC', 'circulating_supply': 19898980.0, 'market_cap': 2358072050000.0}\n",
      "Prix Brent : 118502.15\n"
     ]
    },
    {
     "name": "stderr",
     "output_type": "stream",
     "text": [
      "Error while listening to messages: no close frame received or sent\n",
      "Traceback (most recent call last):\n",
      "  File \"C:\\Users\\GaetanCORIN\\anaconda3\\envs\\python311\\Lib\\site-packages\\yfinance\\live.py\", line 295, in listen\n",
      "    message = self._ws.recv()\n",
      "              ^^^^^^^^^^^^^^^\n",
      "  File \"C:\\Users\\GaetanCORIN\\anaconda3\\envs\\python311\\Lib\\site-packages\\websockets\\sync\\connection.py\", line 291, in recv\n",
      "    raise self.protocol.close_exc from self.recv_exc\n",
      "websockets.exceptions.ConnectionClosedError: no close frame received or sent\n"
     ]
    },
    {
     "name": "stdout",
     "output_type": "stream",
     "text": [
      "Error while listening to messages: %s no close frame received or sent\n"
     ]
    }
   ],
   "source": [
    "# example real dataset\n",
    "#https://github.com/bytewax/awesome-public-real-time-datasets\n",
    "\n",
    "#doc\n",
    "#https://ranaroussi.github.io/yfinance/reference/api/yfinance.WebSocket.html\n",
    "\n",
    "# installer yfinance derniere version:\n",
    "# pip uninstall yfinance -y\n",
    "# pip install git+https://github.com/ranaroussi/yfinance.git\n",
    "\n",
    "from yfinance import WebSocket\n",
    "\n",
    "def handle_message(msg):\n",
    "    print(\"Message reçu:\", msg)\n",
    "    # Essaye d'afficher un prix s'il est dans le message\n",
    "    if 'price' in msg:\n",
    "        print(f\"Prix Brent : {msg['price']}\")\n",
    "    elif 'regularMarketPrice' in msg:\n",
    "        print(f\"Prix Brent marché régulier : {msg['regularMarketPrice']}\")\n",
    "\n",
    "# ws = WebSocket(verbose=True)\n",
    "ws = WebSocket(url= 'wss://streamer.finance.yahoo.com/?version=2', verbose=True)\n",
    "\n",
    "\n",
    "# always open btc_usd\n",
    "ws.subscribe([\"BTC-USD\"])\n",
    "\n",
    "# Souscription uniquement au Brent\n",
    "ws.subscribe([\"BZ=F\"])\n",
    "\n",
    "# Souscription au brent future\n",
    "ws.subscribe([\"CL=F\"])\n",
    "\n",
    "\n",
    "\n",
    "# Souscription au Brent et au S&P 500 (plus actif)\n",
    "# ws.subscribe([\"BZ=F\", \"^GSPC\"])\n",
    "\n",
    "ws.listen(handle_message)"
   ]
  },
  {
   "cell_type": "code",
   "execution_count": 3,
   "id": "c53ffcb5-0d8d-4449-b7b1-01d76d466450",
   "metadata": {},
   "outputs": [],
   "source": [
    "# import yfinance as yf\n",
    "\n",
    "# ws = yf.WebSocket(url= 'wss://streamer.finance.yahoo.com/?version=2', verbose=True)"
   ]
  },
  {
   "cell_type": "code",
   "execution_count": 3,
   "id": "d1856331-3f6e-4563-8b5a-15ccc2196c96",
   "metadata": {},
   "outputs": [
    {
     "name": "stdout",
     "output_type": "stream",
     "text": [
      "📈 {\"type\":\"ping\"}\n",
      "📈 {\"type\":\"ping\"}\n",
      "📈 {\"type\":\"ping\"}\n",
      "📈 {\"type\":\"ping\"}\n",
      "📈 {\"type\":\"ping\"}\n",
      "📈 {\"type\":\"ping\"}\n"
     ]
    },
    {
     "data": {
      "text/plain": [
       "True"
      ]
     },
     "execution_count": 3,
     "metadata": {},
     "output_type": "execute_result"
    }
   ],
   "source": [
    "import websocket\n",
    "import json\n",
    "\n",
    "def on_message(ws, message):\n",
    "    print(\"📈\", message)\n",
    "\n",
    "def on_open(ws):\n",
    "    # Ex : Brent\n",
    "    ws.send(json.dumps({\"type\":\"subscribe\", \"symbol\":\"OANDA:BCO_USD\"}))\n",
    "\n",
    "ws = websocket.WebSocketApp(\"wss://ws.finnhub.io?token=xxxxxx\",\n",
    "                            on_message=on_message)\n",
    "ws.run_forever()"
   ]
  },
  {
   "cell_type": "code",
   "execution_count": null,
   "id": "0d0da4e6-6a36-4002-85c9-08337a3b9c61",
   "metadata": {},
   "outputs": [],
   "source": []
  }
 ],
 "metadata": {
  "kernelspec": {
   "display_name": "Python 3.11 (python311)",
   "language": "python",
   "name": "python311"
  },
  "language_info": {
   "codemirror_mode": {
    "name": "ipython",
    "version": 3
   },
   "file_extension": ".py",
   "mimetype": "text/x-python",
   "name": "python",
   "nbconvert_exporter": "python",
   "pygments_lexer": "ipython3",
   "version": "3.11.10"
  }
 },
 "nbformat": 4,
 "nbformat_minor": 5
}
