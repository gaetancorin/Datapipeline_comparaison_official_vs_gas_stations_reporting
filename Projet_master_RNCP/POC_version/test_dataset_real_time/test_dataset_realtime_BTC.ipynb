{
 "cells": [
  {
   "cell_type": "code",
   "execution_count": 6,
   "id": "b79e0c24-d5b4-41a8-986b-b8befdac4b61",
   "metadata": {},
   "outputs": [
    {
     "name": "stdout",
     "output_type": "stream",
     "text": [
      "Connected to WebSocket.\n",
      "Subscribed to symbols: ['BTC-USD']\n",
      "Listening for messages...\n",
      "[2025-07-29 15:29:06] Prix Brent : 118912.59\n",
      "[2025-07-29 15:30:06] Prix Brent : 118934.01\n",
      "[2025-07-29 15:31:08] Prix Brent : 118934.01\n",
      "[2025-07-29 15:32:06] Prix Brent : 118969.766\n",
      "[2025-07-29 15:32:07] Prix Brent : 118969.766\n",
      "Received keyboard interrupt.\n",
      "WebSocket connection closed.\n"
     ]
    }
   ],
   "source": [
    "from datetime import datetime\n",
    "from yfinance import WebSocket\n",
    "\n",
    "def handle_message(msg):\n",
    "    now = datetime.now().strftime(\"%Y-%m-%d %H:%M:%S\")\n",
    "    if 'price' in msg:\n",
    "       print(f\"[{now}] Prix BTC : {msg['price']}\")\n",
    "\n",
    "ws = WebSocket(url= 'wss://streamer.finance.yahoo.com/?version=2', verbose=True)\n",
    "ws.subscribe([\"BTC-USD\"])\n",
    "ws.listen(handle_message)"
   ]
  },
  {
   "cell_type": "code",
   "execution_count": 8,
   "id": "abfdec94-561b-4498-a3b1-642ba908e8cc",
   "metadata": {},
   "outputs": [
    {
     "name": "stdout",
     "output_type": "stream",
     "text": [
      "Connected to WebSocket.\n",
      "Subscribed to symbols: ['ETH-USD']\n",
      "Listening for messages...\n",
      "[2025-07-29 15:42:06] Prix ETH : 3860.389\n",
      "[2025-07-29 15:43:09] Prix ETH : 3858.6094\n",
      "[2025-07-29 15:44:06] Prix ETH : 3853.1108\n",
      "[2025-07-29 15:45:06] Prix ETH : 3849.8872\n",
      "[2025-07-29 15:46:07] Prix ETH : 3853.5203\n",
      "[2025-07-29 15:47:06] Prix ETH : 3853.5203\n",
      "[2025-07-29 15:47:10] Prix ETH : 3853.5203\n",
      "[2025-07-29 15:48:06] Prix ETH : 3855.4219\n",
      "[2025-07-29 15:49:10] Prix ETH : 3853.83\n",
      "[2025-07-29 15:50:06] Prix ETH : 3855.4878\n",
      "[2025-07-29 15:51:06] Prix ETH : 3855.4878\n",
      "[2025-07-29 15:52:09] Prix ETH : 3840.8271\n",
      "[2025-07-29 15:52:11] Prix ETH : 3840.8271\n",
      "[2025-07-29 15:53:06] Prix ETH : 3840.5269\n",
      "[2025-07-29 15:54:06] Prix ETH : 3839.5454\n",
      "[2025-07-29 15:55:06] Prix ETH : 3839.952\n",
      "[2025-07-29 15:56:06] Prix ETH : 3840.4812\n",
      "[2025-07-29 15:57:07] Prix ETH : 3834.182\n",
      "[2025-07-29 15:57:12] Prix ETH : 3834.182\n",
      "[2025-07-29 15:58:05] Prix ETH : 3834.182\n",
      "[2025-07-29 15:59:07] Prix ETH : 3831.6821\n",
      "[2025-07-29 16:00:06] Prix ETH : 3834.1562\n",
      "[2025-07-29 16:01:08] Prix ETH : 3837.7644\n",
      "[2025-07-29 16:02:12] Prix ETH : 3837.7644\n",
      "[2025-07-29 16:02:13] Prix ETH : 3837.7644\n",
      "[2025-07-29 16:03:07] Prix ETH : 3830.1628\n",
      "[2025-07-29 16:04:06] Prix ETH : 3825.31\n",
      "[2025-07-29 16:05:08] Prix ETH : 3819.8364\n",
      "[2025-07-29 16:06:09] Prix ETH : 3817.529\n",
      "[2025-07-29 16:07:09] Prix ETH : 3809.3562\n",
      "[2025-07-29 16:07:11] Prix ETH : 3809.3562\n",
      "[2025-07-29 16:08:06] Prix ETH : 3805.6726\n",
      "[2025-07-29 16:09:06] Prix ETH : 3805.6726\n",
      "Received keyboard interrupt.\n",
      "WebSocket connection closed.\n"
     ]
    }
   ],
   "source": [
    "from datetime import datetime\n",
    "from yfinance import WebSocket\n",
    "\n",
    "def handle_message(msg):\n",
    "    now = datetime.now().strftime(\"%Y-%m-%d %H:%M:%S\")\n",
    "    if 'price' in msg:\n",
    "       print(f\"[{now}] Prix ETH : {msg['price']}\")\n",
    "\n",
    "ws = WebSocket(url= 'wss://streamer.finance.yahoo.com/?version=2', verbose=True)\n",
    "ws.subscribe([\"ETH-USD\"])\n",
    "ws.listen(handle_message)"
   ]
  },
  {
   "cell_type": "code",
   "execution_count": null,
   "id": "be0915b6-ed4a-497a-9692-1e746cbd2acf",
   "metadata": {},
   "outputs": [],
   "source": []
  }
 ],
 "metadata": {
  "kernelspec": {
   "display_name": "Python 3.11 (python311)",
   "language": "python",
   "name": "python311"
  },
  "language_info": {
   "codemirror_mode": {
    "name": "ipython",
    "version": 3
   },
   "file_extension": ".py",
   "mimetype": "text/x-python",
   "name": "python",
   "nbconvert_exporter": "python",
   "pygments_lexer": "ipython3",
   "version": "3.11.10"
  }
 },
 "nbformat": 4,
 "nbformat_minor": 5
}
