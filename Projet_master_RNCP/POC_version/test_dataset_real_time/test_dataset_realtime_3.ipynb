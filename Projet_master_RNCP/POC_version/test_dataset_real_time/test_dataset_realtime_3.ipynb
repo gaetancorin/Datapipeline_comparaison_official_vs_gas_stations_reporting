{
 "cells": [
  {
   "cell_type": "code",
   "execution_count": 1,
   "id": "59dca238-d2c3-4e07-a102-afd154d13502",
   "metadata": {},
   "outputs": [
    {
     "name": "stdout",
     "output_type": "stream",
     "text": [
      "🔌 Connecté\n",
      "📩 Reçu : [{\"ev\":\"status\",\"status\":\"connected\",\"message\":\"Connected Successfully\"}]\n",
      "📩 Reçu : [{\"ev\":\"status\",\"status\":\"auth_failed\",\"message\":\"Your plan doesn't include websocket access. Visit https://polygon.io/pricing to upgrade.\"}]\n",
      "❌ Fermé\n"
     ]
    },
    {
     "data": {
      "text/plain": [
       "False"
      ]
     },
     "execution_count": 1,
     "metadata": {},
     "output_type": "execute_result"
    }
   ],
   "source": [
    "# https://polygon.io/dashboard/keys\n",
    "# https://polygon.io/docs/websocket/quickstart#authentication\n",
    "\n",
    "import websocket\n",
    "import json\n",
    "\n",
    "API_KEY = \"xxxxxx\"\n",
    "\n",
    "def on_open(ws):\n",
    "    print(\"🔌 Connecté\")\n",
    "    ws.send(json.dumps({\"action\": \"auth\", \"params\": API_KEY}))\n",
    "    ws.send(json.dumps({\"action\": \"subscribe\", \"params\": \"T.AAPL\"}))\n",
    "\n",
    "def on_message(ws, message):\n",
    "    print(\"📩 Reçu :\", message)\n",
    "\n",
    "def on_close(ws, close_status_code, close_msg):\n",
    "    print(\"❌ Fermé\")\n",
    "\n",
    "def on_error(ws, error):\n",
    "    print(\"⚠️ Erreur :\", error)\n",
    "\n",
    "ws = websocket.WebSocketApp(\n",
    "    \"wss://delayed.polygon.io/stocks\",\n",
    "    on_open=on_open,\n",
    "    on_message=on_message,\n",
    "    on_close=on_close,\n",
    "    on_error=on_error\n",
    ")\n",
    "\n",
    "ws.run_forever()"
   ]
  },
  {
   "cell_type": "code",
   "execution_count": 2,
   "id": "18c037d7-a3d7-4e77-ad2f-ac17e04c0d56",
   "metadata": {},
   "outputs": [
    {
     "name": "stdout",
     "output_type": "stream",
     "text": [
      "❌ Erreur : 403 {\"status\":\"NOT_AUTHORIZED\",\"request_id\":\"06676089cc8c51c340f956e27d32455e\",\"message\":\"You are not entitled to this data. Please upgrade your plan at https://polygon.io/pricing\"}\n"
     ]
    }
   ],
   "source": [
    "import requests\n",
    "\n",
    "API_KEY = \"xxxxxxxxx\"\n",
    "symbol = \"AAPL\"\n",
    "url = f\"https://api.polygon.io/v2/last/trade/{symbol}?apiKey={API_KEY}\"\n",
    "\n",
    "response = requests.get(url)\n",
    "\n",
    "if response.status_code == 200:\n",
    "    data = response.json()\n",
    "    print(\"📈 Dernier trade :\", data)\n",
    "else:\n",
    "    print(\"❌ Erreur :\", response.status_code, response.text)"
   ]
  },
  {
   "cell_type": "code",
   "execution_count": 3,
   "id": "0fd38a35-2aa5-4e8f-9a9f-e2f159264529",
   "metadata": {},
   "outputs": [],
   "source": [
    "# pip install polygon-api-client"
   ]
  },
  {
   "cell_type": "code",
   "execution_count": 7,
   "id": "07e3d48c-fbe9-4fa3-9989-6b9e805f9db9",
   "metadata": {},
   "outputs": [
    {
     "name": "stdout",
     "output_type": "stream",
     "text": [
      "TickerDetails(active=True, address=CompanyAddress(address1='ONE APPLE PARK WAY', address2=None, city='CUPERTINO', state='CA', country=None, postal_code='95014'), branding=Branding(icon_url='https://api.polygon.io/v1/reference/company-branding/YXBwbGUuY29t/images/2025-04-04_icon.png', logo_url='https://api.polygon.io/v1/reference/company-branding/YXBwbGUuY29t/images/2025-04-04_logo.svg', accent_color=None, light_color=None, dark_color=None), cik='0000320193', composite_figi='BBG000B9XRY4', currency_name='usd', currency_symbol=None, base_currency_name=None, base_currency_symbol=None, delisted_utc=None, description=\"Apple is among the largest companies in the world, with a broad portfolio of hardware and software products targeted at consumers and businesses. Apple's iPhone makes up a majority of the firm sales, and Apple's other products like Mac, iPad, and Watch are designed around the iPhone as the focal point of an expansive software ecosystem. Apple has progressively worked to add new applications, like streaming video, subscription bundles, and augmented reality. The firm designs its own software and semiconductors while working with subcontractors like Foxconn and TSMC to build its products and chips. Slightly less than half of Apple's sales come directly through its flagship stores, with a majority of sales coming indirectly through partnerships and distribution.\", ticker_root='AAPL', ticker_suffix=None, homepage_url='https://www.apple.com', list_date='1980-12-12', locale='us', market='stocks', market_cap=3194474464880.0, name='Apple Inc.', phone_number='(408) 996-1010', primary_exchange='XNAS', share_class_figi='BBG001S5N8V8', share_class_shares_outstanding=14935826000, sic_code='3571', sic_description='ELECTRONIC COMPUTERS', ticker='AAPL', total_employees=164000, type='CS', weighted_shares_outstanding=14935826000)\n"
     ]
    }
   ],
   "source": [
    "from polygon import RESTClient\n",
    "\n",
    "client = RESTClient(\"xxxxxxxxx\")\n",
    "\n",
    "details = client.get_ticker_details(\n",
    "\t\"AAPL\",\n",
    "\t)\n",
    "\n",
    "print(details)"
   ]
  },
  {
   "cell_type": "code",
   "execution_count": 16,
   "id": "d1247e46-30bf-4c45-8b5f-40bfb186cab4",
   "metadata": {},
   "outputs": [
    {
     "ename": "AttributeError",
     "evalue": "'RESTClient' object has no attribute 'get_previous_close'",
     "output_type": "error",
     "traceback": [
      "\u001b[1;31m---------------------------------------------------------------------------\u001b[0m",
      "\u001b[1;31mAttributeError\u001b[0m                            Traceback (most recent call last)",
      "Cell \u001b[1;32mIn[16], line 8\u001b[0m\n\u001b[0;32m      5\u001b[0m brent_etf \u001b[38;5;241m=\u001b[39m \u001b[38;5;124m\"\u001b[39m\u001b[38;5;124mBNO\u001b[39m\u001b[38;5;124m\"\u001b[39m\n\u001b[0;32m      7\u001b[0m \u001b[38;5;66;03m# Clôture précédente de l'ETF Brent\u001b[39;00m\n\u001b[1;32m----> 8\u001b[0m close \u001b[38;5;241m=\u001b[39m client\u001b[38;5;241m.\u001b[39mget_previous_close(brent_etf)\n\u001b[0;32m      9\u001b[0m \u001b[38;5;28;01mfor\u001b[39;00m agg \u001b[38;5;129;01min\u001b[39;00m close:\n\u001b[0;32m     10\u001b[0m     \u001b[38;5;28mprint\u001b[39m(\u001b[38;5;124mf\u001b[39m\u001b[38;5;124m\"\u001b[39m\u001b[38;5;124m📈 \u001b[39m\u001b[38;5;132;01m{\u001b[39;00mbrent_etf\u001b[38;5;132;01m}\u001b[39;00m\u001b[38;5;124m close : \u001b[39m\u001b[38;5;132;01m{\u001b[39;00magg\u001b[38;5;241m.\u001b[39mclose\u001b[38;5;132;01m}\u001b[39;00m\u001b[38;5;124m USD\u001b[39m\u001b[38;5;124m\"\u001b[39m)\n",
      "\u001b[1;31mAttributeError\u001b[0m: 'RESTClient' object has no attribute 'get_previous_close'"
     ]
    }
   ],
   "source": [
    "from polygon import RESTClient\n",
    "\n",
    "client = RESTClient(\"xxxxxxxx\")\n",
    "\n",
    "brent_etf = \"BNO\"\n",
    "\n",
    "# Clôture précédente de l'ETF Brent\n",
    "close = client.get_previous_close(brent_etf)\n",
    "for agg in close:\n",
    "    print(f\"📈 {brent_etf} close : {agg.close} USD\")"
   ]
  },
  {
   "cell_type": "code",
   "execution_count": null,
   "id": "14a43846-ee5f-455b-b335-d8470286124e",
   "metadata": {},
   "outputs": [],
   "source": []
  }
 ],
 "metadata": {
  "kernelspec": {
   "display_name": "Python 3.11 (python311)",
   "language": "python",
   "name": "python311"
  },
  "language_info": {
   "codemirror_mode": {
    "name": "ipython",
    "version": 3
   },
   "file_extension": ".py",
   "mimetype": "text/x-python",
   "name": "python",
   "nbconvert_exporter": "python",
   "pygments_lexer": "ipython3",
   "version": "3.11.10"
  }
 },
 "nbformat": 4,
 "nbformat_minor": 5
}
