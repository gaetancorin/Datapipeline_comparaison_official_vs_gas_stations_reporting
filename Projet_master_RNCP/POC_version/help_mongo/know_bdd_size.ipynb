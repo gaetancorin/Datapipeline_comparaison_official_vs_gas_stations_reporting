{
 "cells": [
  {
   "cell_type": "code",
   "execution_count": 2,
   "id": "fce01a6e",
   "metadata": {},
   "outputs": [
    {
     "name": "stdout",
     "output_type": "stream",
     "text": [
      "\n",
      "📦 Base de données : datalake\n",
      "  - Taille des données     : 7523.41 Mo\n",
      "  - Espace utilisé sur disque : 1170.44 Mo\n",
      "\n",
      "📂 Collections :\n",
      "  - stockmarket_brent_usd\n",
      "     • Données      : 0.44 Mo\n",
      "     • Stockage brut : 0.22 Mo\n",
      "  - stockmarket_eur_usd\n",
      "     • Données      : 0.42 Mo\n",
      "     • Stockage brut : 0.21 Mo\n",
      "  - french_gas_station\n",
      "     • Données      : 7522.55 Mo\n",
      "     • Stockage brut : 1170.01 Mo\n"
     ]
    }
   ],
   "source": [
    "import pymongo\n",
    "\n",
    "# Setup MongoDB connection (local)\n",
    "mongo_host = \"localhost\"\n",
    "mongo_port = 27017\n",
    "mongo_user = \"admin\"\n",
    "mongo_password = \"password\"\n",
    "auth_db = \"admin\"\n",
    "client_mongo = pymongo.MongoClient(\n",
    "    host=mongo_host,\n",
    "    port=mongo_port,\n",
    "    username=mongo_user,\n",
    "    password=mongo_password,\n",
    "    authSource=auth_db\n",
    ")\n",
    "\n",
    "target_db_name = \"datalake\"\n",
    "# Accès à la base de données cible\n",
    "db = client_mongo[target_db_name]\n",
    "\n",
    "# Obtenir les stats globales de la base\n",
    "db_stats = db.command(\"dbstats\")\n",
    "print(f\"\\n📦 Base de données : {target_db_name}\")\n",
    "print(f\"  - Taille des données     : {db_stats['dataSize'] / (1024*1024):.2f} Mo\")\n",
    "print(f\"  - Espace utilisé sur disque : {db_stats['storageSize'] / (1024*1024):.2f} Mo\")\n",
    "\n",
    "# Stats par collection\n",
    "print(\"\\n📂 Collections :\")\n",
    "for collection_name in db.list_collection_names():\n",
    "    coll_stats = db.command(\"collstats\", collection_name)\n",
    "    size_mb = coll_stats['size'] / (1024 * 1024)\n",
    "    storage_mb = coll_stats['storageSize'] / (1024 * 1024)\n",
    "    print(f\"  - {collection_name}\")\n",
    "    print(f\"     • Données      : {size_mb:.2f} Mo\")\n",
    "    print(f\"     • Stockage brut : {storage_mb:.2f} Mo\")\n",
    "    "
   ]
  },
  {
   "cell_type": "code",
   "execution_count": null,
   "id": "c47a0be4",
   "metadata": {},
   "outputs": [],
   "source": []
  }
 ],
 "metadata": {
  "kernelspec": {
   "display_name": "Python 3 (ipykernel)",
   "language": "python",
   "name": "python3"
  },
  "language_info": {
   "codemirror_mode": {
    "name": "ipython",
    "version": 3
   },
   "file_extension": ".py",
   "mimetype": "text/x-python",
   "name": "python",
   "nbconvert_exporter": "python",
   "pygments_lexer": "ipython3",
   "version": "3.11.5"
  }
 },
 "nbformat": 4,
 "nbformat_minor": 5
}
