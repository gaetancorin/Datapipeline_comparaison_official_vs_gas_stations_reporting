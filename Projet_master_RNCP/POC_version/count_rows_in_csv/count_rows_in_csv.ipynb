{
 "cells": [
  {
   "cell_type": "code",
   "execution_count": 1,
   "id": "7bdbcbc3",
   "metadata": {},
   "outputs": [
    {
     "name": "stdout",
     "output_type": "stream",
     "text": [
      "PrixCarburants_annuel_2007.csv: 866993 lignes\n",
      "PrixCarburants_annuel_2008.csv: 1422158 lignes\n",
      "PrixCarburants_annuel_2009.csv: 1398296 lignes\n",
      "PrixCarburants_annuel_2010.csv: 1445254 lignes\n",
      "PrixCarburants_annuel_2011.csv: 1613150 lignes\n",
      "PrixCarburants_annuel_2012.csv: 1904467 lignes\n",
      "PrixCarburants_annuel_2013.csv: 2152004 lignes\n",
      "PrixCarburants_annuel_2014.csv: 2199274 lignes\n",
      "PrixCarburants_annuel_2015.csv: 3307860 lignes\n",
      "PrixCarburants_annuel_2016.csv: 3894247 lignes\n",
      "PrixCarburants_annuel_2017.csv: 3662353 lignes\n",
      "PrixCarburants_annuel_2018.csv: 3885692 lignes\n",
      "PrixCarburants_annuel_2019.csv: 4214434 lignes\n",
      "PrixCarburants_annuel_2020.csv: 3863795 lignes\n",
      "PrixCarburants_annuel_2021.csv: 4287387 lignes\n",
      "PrixCarburants_annuel_2022.csv: 5048606 lignes\n",
      "PrixCarburants_annuel_2023.csv: 4687530 lignes\n",
      "PrixCarburants_annuel_2024.csv: 4592186 lignes\n",
      "PrixCarburants_annuel_2025.csv: 2205537 lignes\n",
      "\n",
      "Nombre total de lignes (sans en-têtes) : 56651223\n"
     ]
    }
   ],
   "source": [
    "import os\n",
    "import csv\n",
    "\n",
    "folder_path = r\"C:\\Users\\gaeta\\Documents\\original_DataPipeline_french_fuel_cost_decomposition\\results\\inputs_csv\"\n",
    "total_rows = 0\n",
    "\n",
    "for filename in os.listdir(folder_path):\n",
    "    if filename.endswith(\".csv\"):\n",
    "        file_path = os.path.join(folder_path, filename)\n",
    "        with open(file_path, 'r', encoding='utf-8') as f:\n",
    "            row_count = sum(1 for row in f) - 1  # Enlève l'en-tête\n",
    "            print(f\"{filename}: {row_count} lignes\")\n",
    "            total_rows += row_count\n",
    "\n",
    "print(f\"\\nNombre total de lignes (sans en-têtes) : {total_rows}\")"
   ]
  },
  {
   "cell_type": "code",
   "execution_count": null,
   "id": "767476cf",
   "metadata": {},
   "outputs": [],
   "source": []
  }
 ],
 "metadata": {
  "kernelspec": {
   "display_name": "Python 3 (ipykernel)",
   "language": "python",
   "name": "python3"
  },
  "language_info": {
   "codemirror_mode": {
    "name": "ipython",
    "version": 3
   },
   "file_extension": ".py",
   "mimetype": "text/x-python",
   "name": "python",
   "nbconvert_exporter": "python",
   "pygments_lexer": "ipython3",
   "version": "3.11.5"
  }
 },
 "nbformat": 4,
 "nbformat_minor": 5
}
