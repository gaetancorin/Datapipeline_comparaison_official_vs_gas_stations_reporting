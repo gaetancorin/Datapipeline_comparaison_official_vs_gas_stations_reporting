{
 "cells": [
  {
   "cell_type": "code",
   "execution_count": 6,
   "id": "e481d5ff",
   "metadata": {},
   "outputs": [
    {
     "name": "stdout",
     "output_type": "stream",
     "text": [
      "Fichier test.txt uploadé dans mongo-dump-master-project sous test.txt\n"
     ]
    }
   ],
   "source": [
    "import boto3\n",
    "import os\n",
    "\n",
    "AWS_ACCESS_KEY_ID = 'xxx'\n",
    "AWS_SECRET_ACCESS_KEY = 'xxx'\n",
    "AWS_REGION = 'eu-west-3'\n",
    "BUCKET_NAME = 'mongo-dump-master-project'\n",
    "\n",
    "s3 = boto3.client(\n",
    "    's3',\n",
    "    aws_access_key_id=AWS_ACCESS_KEY_ID,\n",
    "    aws_secret_access_key=AWS_SECRET_ACCESS_KEY,\n",
    "    region_name=AWS_REGION\n",
    ")\n",
    "\n",
    "def upload_file_to_s3(file_path, bucket=BUCKET_NAME, object_name=None):\n",
    "    if object_name is None:\n",
    "        object_name = os.path.basename(file_path)\n",
    "    s3.upload_file(file_path, bucket, object_name)\n",
    "    print(f\"Fichier {file_path} uploadé dans {bucket} sous {object_name}\")\n",
    "\n",
    "upload_file_to_s3('test.txt')"
   ]
  },
  {
   "cell_type": "code",
   "execution_count": 7,
   "id": "f7512eca",
   "metadata": {},
   "outputs": [
    {
     "name": "stdout",
     "output_type": "stream",
     "text": [
      "Fichier 'test.txt' téléchargé et sauvegardé ici : C:\\Users\\gaeta\\Documents\\Datapipeline_project_master\\Projet_master_RNCP\\datasource_prix_essence\\test_return.txt\n"
     ]
    }
   ],
   "source": [
    "def download_file_from_s3_to_path(object_name, local_path, bucket=BUCKET_NAME):\n",
    "    try:\n",
    "        s3.download_file(bucket, object_name, local_path)\n",
    "        print(f\"Fichier '{object_name}' téléchargé et sauvegardé ici : {local_path}\")\n",
    "    except Exception as e:\n",
    "        print(f\"Erreur lors du téléchargement : {e}\")\n",
    "\n",
    "# Exemple d'utilisation\n",
    "local_file_path = r\"C:\\Users\\gaeta\\Documents\\Datapipeline_project_master\\Projet_master_RNCP\\datasource_prix_essence\\test_return.txt\"\n",
    "download_file_from_s3_to_path('test.txt', local_file_path)"
   ]
  },
  {
   "cell_type": "code",
   "execution_count": null,
   "id": "f35be19e",
   "metadata": {},
   "outputs": [],
   "source": []
  }
 ],
 "metadata": {
  "kernelspec": {
   "display_name": "Python 3 (ipykernel)",
   "language": "python",
   "name": "python3"
  },
  "language_info": {
   "codemirror_mode": {
    "name": "ipython",
    "version": 3
   },
   "file_extension": ".py",
   "mimetype": "text/x-python",
   "name": "python",
   "nbconvert_exporter": "python",
   "pygments_lexer": "ipython3",
   "version": "3.11.5"
  }
 },
 "nbformat": 4,
 "nbformat_minor": 5
}
